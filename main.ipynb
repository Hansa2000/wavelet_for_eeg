{
 "cells": [
  {
   "cell_type": "code",
   "execution_count": 3,
   "metadata": {},
   "outputs": [
    {
     "name": "stdout",
     "output_type": "stream",
     "text": [
      "Set A contains 100 files.\n",
      "Set B contains 100 files.\n",
      "Set C contains 100 files.\n",
      "Set D contains 100 files.\n",
      "Set E contains 100 files.\n"
     ]
    }
   ],
   "source": [
    "import glob\n",
    "import pandas as pd\n",
    "import numpy as np\n",
    "import os\n",
    "\n",
    "# Folder paths for each set\n",
    "folder_paths = {\n",
    "    'A': './data/Z',  # Z000.txt - Z100.txt\n",
    "    'B': './data/O',  # O000.txt - O100.txt\n",
    "    'C': './data/N',  # N000.txt - N100.txt\n",
    "    'D': './data/F',  # F000.txt - F100.txt\n",
    "    'E': './data/S'   # S000.txt - S100.txt\n",
    "}\n",
    "\n",
    "# Dictionary to store the data from each set\n",
    "all_sets_data = {}\n",
    "\n",
    "# Iterate through each set and its corresponding folder path\n",
    "for set_name, folder_path in folder_paths.items():\n",
    "    \n",
    "    # Find all .txt files in the current folder\n",
    "    txt_files = glob.glob(os.path.join(folder_path, \"*.txt\"))\n",
    "    \n",
    "    # To store the EEG data for the current set\n",
    "    set_data = []\n",
    "    \n",
    "    # Iterate over each file and load the data\n",
    "    for file in txt_files:\n",
    "        # Load the data (adjust the delimiter if needed)\n",
    "        data = pd.read_csv(file, delimiter=\"\\t\", header=None)\n",
    "        \n",
    "        # Assuming each file contains a single column of EEG data\n",
    "        eeg_data = data[0].values\n",
    "        \n",
    "        # Append the loaded data to the list for this set\n",
    "        set_data.append(eeg_data)\n",
    "    \n",
    "    # Store the data for the current set in the dictionary\n",
    "    all_sets_data[set_name] = set_data\n",
    "\n",
    "# Print the number of files loaded for each set\n",
    "for set_name, data in all_sets_data.items():\n",
    "    print(f\"Set {set_name} contains {len(data)} files.\")"
   ]
  }
 ],
 "metadata": {
  "kernelspec": {
   "display_name": "Python 3",
   "language": "python",
   "name": "python3"
  },
  "language_info": {
   "codemirror_mode": {
    "name": "ipython",
    "version": 3
   },
   "file_extension": ".py",
   "mimetype": "text/x-python",
   "name": "python",
   "nbconvert_exporter": "python",
   "pygments_lexer": "ipython3",
   "version": "3.11.8"
  }
 },
 "nbformat": 4,
 "nbformat_minor": 2
}
